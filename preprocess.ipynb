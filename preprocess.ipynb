{
 "cells": [
  {
   "cell_type": "code",
   "execution_count": 1,
   "metadata": {},
   "outputs": [],
   "source": [
    "# cleaning text\n",
    "import os\n",
    "import re\n",
    "import spacy\n",
    "from nltk.corpus import stopwords"
   ]
  },
  {
   "cell_type": "code",
   "execution_count": 2,
   "metadata": {},
   "outputs": [],
   "source": [
    "nlp = spacy.load(\"en_core_web_sm\")\n",
    "\n",
    "def clean_text(text):\n",
    "    # special characters and spaces\n",
    "    text = re.sub(r'[^a-zA-Z\\s]', '', text)\n",
    "    text = re.sub(r'\\s+', ' ', text).strip()\n",
    "    # lowercase\n",
    "    text = text.lower()\n",
    "    \n",
    "    # Initialize custom stop words from NLTK's stop words\n",
    "    custom_stop_words = set(stopwords.words('english'))\n",
    "    \n",
    "    \n",
    "    # Add domain-specific stop words\n",
    "    custom_stop_words.update([\n",
    "        'say', 'go', 'come', 'one', 'well', 'little', 'take',\n",
    "        'could', 'look', 'know', 'see', 'old', 'give', 'time',\n",
    "        'upon', 'said', 'would', 'should', 'must', 'may', 'might',\n",
    "        'first', 'second', 'third'\n",
    "    ])\n",
    "    \n",
    "    # Process text with spaCy\n",
    "    doc = nlp(text)\n",
    "    \n",
    "    # Lemmatize and filter tokens\n",
    "    tokens = [\n",
    "        token.lemma_ for token in doc \n",
    "        if token.text not in custom_stop_words \n",
    "        and not token.is_punct \n",
    "        and not token.is_space\n",
    "        and len(token.text) > 2  # Remove very short words\n",
    "        and not token.like_num  # Remove numbers\n",
    "        and token.pos_ in ['NOUN', 'VERB', 'ADJ']  # Keep only content words\n",
    "    ]\n",
    "    \n",
    "    # Validate the cleaned text\n",
    "    if len(tokens) < 20:  # Minimum threshold for meaningful analysis\n",
    "        print(f\"Warning: Text has only {len(tokens)} tokens after cleaning\")\n",
    "    \n",
    "    return ' '.join(tokens)\n",
    "    "
   ]
  },
  {
   "cell_type": "code",
   "execution_count": 3,
   "metadata": {},
   "outputs": [],
   "source": [
    "# Add validation function\n",
    "def validate_cleaned_texts(directory):\n",
    "    \"\"\"Validate cleaned texts to ensure they're suitable for LDA\"\"\"\n",
    "    problems = []\n",
    "    for filename in os.listdir(directory):\n",
    "        if filename.endswith(\".txt\"):\n",
    "            with open(os.path.join(directory, filename), \"r\", encoding=\"utf-8\") as file:\n",
    "                text = file.read()\n",
    "                tokens = text.split()\n",
    "                \n",
    "                # Check for potential issues\n",
    "                if len(tokens) < 20:\n",
    "                    problems.append(f\"{filename}: Only {len(tokens)} tokens\")\n",
    "                elif len(set(tokens)) < 10:\n",
    "                    problems.append(f\"{filename}: Only {len(set(tokens))} unique tokens\")\n",
    "    \n",
    "    if problems:\n",
    "        print(\"\\nPotential problems found:\")\n",
    "        for problem in problems:\n",
    "            print(problem)\n",
    "    else:\n",
    "        print(\"\\nAll documents passed validation\")\n",
    "    \n",
    "    return len(problems) == 0"
   ]
  },
  {
   "cell_type": "code",
   "execution_count": 4,
   "metadata": {},
   "outputs": [],
   "source": [
    "input_folder = \"/Users/jinalee/Desktop/Topic_modeling/raw_books\"  \n",
    "output_folder = \"/Users/jinalee/Desktop/Topic_modeling/cleaned_books\" \n",
    "os.makedirs(output_folder, exist_ok=True)"
   ]
  },
  {
   "cell_type": "code",
   "execution_count": 5,
   "metadata": {},
   "outputs": [
    {
     "name": "stdout",
     "output_type": "stream",
     "text": [
      "Processed and saved: Mother holle.txt\n",
      "Processed and saved: The elderbush.txt\n",
      "Processed and saved: The six swans.txt\n",
      "Processed and saved: Little red cap.txt\n",
      "Processed and saved: The happy family.txt\n",
      "Processed and saved: Little snow white.txt\n",
      "Processed and saved: The little match girl.txt\n",
      "Processed and saved: The golden goose.txt\n",
      "Processed and saved: Cinderella.txt\n",
      "Processed and saved: The three little men in the wood.txt\n",
      "Processed and saved: Faithful John.txt\n",
      "Processed and saved: The old house.txt\n",
      "Processed and saved: The frog prince.txt\n",
      "Processed and saved: The emperor's new clothes.txt\n",
      "Processed and saved: The water of life.txt\n",
      "Processed and saved: Briar rose.txt\n",
      "Processed and saved: The shoes of fortune.txt\n",
      "Processed and saved: Hansel and grethel.txt\n",
      "Processed and saved: The story of a mother.txt\n",
      "Processed and saved: Little one-eye, two-eyes and three-eyes.txt\n",
      "Processed and saved: The swinherd.txt\n",
      "Processed and saved: The false collar.txt\n",
      "Processed and saved: The snow queen.txt\n",
      "Processed and saved: The dream of little tuk.txt\n",
      "Processed and saved: The travels of tom thumb.txt\n",
      "Processed and saved: The fir tree.txt\n",
      "Processed and saved: The shadow.txt\n",
      "Processed and saved: The leap-frog.txt\n",
      "Processed and saved: The goose-girl.txt\n",
      "Processed and saved: Rumpelstiltskin.txt\n",
      "Processed and saved: Thumbling.txt\n",
      "Processed and saved: The bell.txt\n",
      "Processed and saved: The valiant little tailor.txt\n",
      "Processed and saved: Catherine and Frederick.txt\n",
      "Processed and saved: Snow-white and rose red.txt\n",
      "Processed and saved: The red shoes.txt\n",
      "Processed and saved: The real princess.txt\n",
      "Processed and saved: Bearskin.txt\n",
      "Processed and saved: The naughty boy.txt\n",
      "Processed and saved: Dummling and the three feathers.txt\n",
      "Processed and saved: Rapunzel.txt\n"
     ]
    }
   ],
   "source": [
    "# Modify the main processing loop\n",
    "for filename in os.listdir(input_folder):\n",
    "    if filename.endswith(\".txt\"):\n",
    "        with open(os.path.join(input_folder, filename), 'r', encoding='utf-8') as file:\n",
    "            raw_text = file.read()\n",
    "            cleaned_text = clean_text(raw_text)\n",
    "            \n",
    "            # Only save if we have enough content\n",
    "            if len(cleaned_text.split()) >= 20:\n",
    "                with open(os.path.join(output_folder, filename), 'w', encoding='utf-8') as out_file:\n",
    "                    out_file.write(cleaned_text)\n",
    "                print(f\"Processed and saved: {filename}\")\n",
    "            else:\n",
    "                print(f\"Warning: Skipped {filename} due to insufficient content\")"
   ]
  },
  {
   "cell_type": "code",
   "execution_count": 6,
   "metadata": {},
   "outputs": [
    {
     "name": "stdout",
     "output_type": "stream",
     "text": [
      "\n",
      "Validating cleaned texts...\n",
      "\n",
      "All documents passed validation\n"
     ]
    },
    {
     "data": {
      "text/plain": [
       "True"
      ]
     },
     "execution_count": 6,
     "metadata": {},
     "output_type": "execute_result"
    }
   ],
   "source": [
    "# Run validation after processing\n",
    "print(\"\\nValidating cleaned texts...\")\n",
    "validate_cleaned_texts(output_folder)"
   ]
  }
 ],
 "metadata": {
  "kernelspec": {
   "display_name": "FER",
   "language": "python",
   "name": "python3"
  },
  "language_info": {
   "codemirror_mode": {
    "name": "ipython",
    "version": 3
   },
   "file_extension": ".py",
   "mimetype": "text/x-python",
   "name": "python",
   "nbconvert_exporter": "python",
   "pygments_lexer": "ipython3",
   "version": "3.9.21"
  }
 },
 "nbformat": 4,
 "nbformat_minor": 2
}
